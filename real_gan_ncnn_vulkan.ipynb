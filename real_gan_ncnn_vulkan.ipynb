{
 "cells": [
  {
   "cell_type": "code",
   "execution_count": 2,
   "id": "82731683",
   "metadata": {},
   "outputs": [
    {
     "name": "stdout",
     "output_type": "stream",
     "text": [
      "D:\\GAN's\n"
     ]
    }
   ],
   "source": [
    "#move to any folder\n",
    "%cd D:\\GAN's\n",
    "    "
   ]
  },
  {
   "cell_type": "code",
   "execution_count": 3,
   "id": "62ae1970",
   "metadata": {},
   "outputs": [
    {
     "name": "stderr",
     "output_type": "stream",
     "text": [
      "fatal: destination path 'Real-ESRGAN-ncnn-vulkan' already exists and is not an empty directory.\n"
     ]
    }
   ],
   "source": [
    "#download the repo\n",
    "!git clone https://github.com/xinntao/Real-ESRGAN-ncnn-vulkan"
   ]
  },
  {
   "cell_type": "code",
   "execution_count": 4,
   "id": "7e150e2f",
   "metadata": {},
   "outputs": [],
   "source": [
    "import os"
   ]
  },
  {
   "cell_type": "code",
   "execution_count": 5,
   "id": "4724baf0",
   "metadata": {},
   "outputs": [
    {
     "data": {
      "text/plain": [
       "\"D:\\\\GAN's\""
      ]
     },
     "execution_count": 5,
     "metadata": {},
     "output_type": "execute_result"
    }
   ],
   "source": [
    "os.getcwd()\n"
   ]
  },
  {
   "cell_type": "code",
   "execution_count": 6,
   "id": "f81ef3b1",
   "metadata": {},
   "outputs": [
    {
     "name": "stdout",
     "output_type": "stream",
     "text": [
      "D:\\GAN's\\realesrgan-ncnn-vulkan\n"
     ]
    }
   ],
   "source": [
    "%cd D:\\GAN's\\realesrgan-ncnn-vulkan"
   ]
  },
  {
   "cell_type": "code",
   "execution_count": 7,
   "id": "a75909f6",
   "metadata": {},
   "outputs": [
    {
     "name": "stdout",
     "output_type": "stream",
     "text": [
      "Requirement already satisfied: basicsr in c:\\users\\zaida\\anaconda3\\lib\\site-packages (1.4.2)\n",
      "Requirement already satisfied: torchvision in c:\\users\\zaida\\anaconda3\\lib\\site-packages (from basicsr) (0.15.2)\n",
      "Requirement already satisfied: lmdb in c:\\users\\zaida\\anaconda3\\lib\\site-packages (from basicsr) (1.4.1)\n",
      "Requirement already satisfied: future in c:\\users\\zaida\\anaconda3\\lib\\site-packages (from basicsr) (0.18.3)\n",
      "Requirement already satisfied: pyyaml in c:\\users\\zaida\\anaconda3\\lib\\site-packages (from basicsr) (6.0)\n",
      "Requirement already satisfied: tqdm in c:\\users\\zaida\\anaconda3\\lib\\site-packages (from basicsr) (4.64.1)\n",
      "Requirement already satisfied: scikit-image in c:\\users\\zaida\\anaconda3\\lib\\site-packages (from basicsr) (0.19.3)\n",
      "Requirement already satisfied: numpy>=1.17 in c:\\users\\zaida\\anaconda3\\lib\\site-packages (from basicsr) (1.23.5)\n",
      "Requirement already satisfied: requests in c:\\users\\zaida\\anaconda3\\lib\\site-packages (from basicsr) (2.28.1)\n",
      "Requirement already satisfied: addict in c:\\users\\zaida\\anaconda3\\lib\\site-packages (from basicsr) (2.4.0)\n",
      "Requirement already satisfied: Pillow in c:\\users\\zaida\\anaconda3\\lib\\site-packages (from basicsr) (9.4.0)\n",
      "Requirement already satisfied: tb-nightly in c:\\users\\zaida\\anaconda3\\lib\\site-packages (from basicsr) (2.16.0a20231231)\n",
      "Requirement already satisfied: scipy in c:\\users\\zaida\\anaconda3\\lib\\site-packages (from basicsr) (1.10.0)\n",
      "Requirement already satisfied: torch>=1.7 in c:\\users\\zaida\\anaconda3\\lib\\site-packages (from basicsr) (2.0.1)\n",
      "Requirement already satisfied: yapf in c:\\users\\zaida\\anaconda3\\lib\\site-packages (from basicsr) (0.31.0)\n",
      "Requirement already satisfied: opencv-python in c:\\users\\zaida\\anaconda3\\lib\\site-packages (from basicsr) (4.8.0.74)\n",
      "Requirement already satisfied: jinja2 in c:\\users\\zaida\\anaconda3\\lib\\site-packages (from torch>=1.7->basicsr) (3.1.2)\n",
      "Requirement already satisfied: typing-extensions in c:\\users\\zaida\\anaconda3\\lib\\site-packages (from torch>=1.7->basicsr) (4.4.0)\n",
      "Requirement already satisfied: filelock in c:\\users\\zaida\\anaconda3\\lib\\site-packages (from torch>=1.7->basicsr) (3.9.0)\n",
      "Requirement already satisfied: networkx in c:\\users\\zaida\\anaconda3\\lib\\site-packages (from torch>=1.7->basicsr) (2.8.4)\n",
      "Requirement already satisfied: sympy in c:\\users\\zaida\\anaconda3\\lib\\site-packages (from torch>=1.7->basicsr) (1.11.1)\n",
      "Requirement already satisfied: urllib3<1.27,>=1.21.1 in c:\\users\\zaida\\anaconda3\\lib\\site-packages (from requests->basicsr) (1.26.14)\n",
      "Requirement already satisfied: certifi>=2017.4.17 in c:\\users\\zaida\\anaconda3\\lib\\site-packages (from requests->basicsr) (2022.12.7)\n",
      "Requirement already satisfied: charset-normalizer<3,>=2 in c:\\users\\zaida\\anaconda3\\lib\\site-packages (from requests->basicsr) (2.0.4)\n",
      "Requirement already satisfied: idna<4,>=2.5 in c:\\users\\zaida\\anaconda3\\lib\\site-packages (from requests->basicsr) (3.4)\n",
      "Requirement already satisfied: tifffile>=2019.7.26 in c:\\users\\zaida\\anaconda3\\lib\\site-packages (from scikit-image->basicsr) (2021.7.2)\n",
      "Requirement already satisfied: packaging>=20.0 in c:\\users\\zaida\\anaconda3\\lib\\site-packages (from scikit-image->basicsr) (23.1)\n",
      "Requirement already satisfied: imageio>=2.4.1 in c:\\users\\zaida\\anaconda3\\lib\\site-packages (from scikit-image->basicsr) (2.26.0)\n",
      "Requirement already satisfied: PyWavelets>=1.1.1 in c:\\users\\zaida\\anaconda3\\lib\\site-packages (from scikit-image->basicsr) (1.4.1)\n",
      "Requirement already satisfied: google-auth-oauthlib<2,>=0.5 in c:\\users\\zaida\\anaconda3\\lib\\site-packages (from tb-nightly->basicsr) (1.0.0)\n",
      "Requirement already satisfied: werkzeug>=1.0.1 in c:\\users\\zaida\\anaconda3\\lib\\site-packages (from tb-nightly->basicsr) (2.2.2)\n",
      "Requirement already satisfied: markdown>=2.6.8 in c:\\users\\zaida\\anaconda3\\lib\\site-packages (from tb-nightly->basicsr) (3.4.1)\n",
      "Requirement already satisfied: grpcio>=1.48.2 in c:\\users\\zaida\\anaconda3\\lib\\site-packages (from tb-nightly->basicsr) (1.56.0)\n",
      "Requirement already satisfied: tensorboard-data-server<0.8.0,>=0.7.0 in c:\\users\\zaida\\anaconda3\\lib\\site-packages (from tb-nightly->basicsr) (0.7.1)\n",
      "Requirement already satisfied: setuptools>=41.0.0 in c:\\users\\zaida\\anaconda3\\lib\\site-packages (from tb-nightly->basicsr) (65.6.3)\n",
      "Requirement already satisfied: google-auth<3,>=1.6.3 in c:\\users\\zaida\\anaconda3\\lib\\site-packages (from tb-nightly->basicsr) (2.20.0)\n",
      "Requirement already satisfied: protobuf>=3.19.6 in c:\\users\\zaida\\anaconda3\\lib\\site-packages (from tb-nightly->basicsr) (4.23.3)\n",
      "Requirement already satisfied: tf-keras-nightly in c:\\users\\zaida\\anaconda3\\lib\\site-packages (from tb-nightly->basicsr) (2.16.0.dev2023123010)\n",
      "Requirement already satisfied: absl-py>=0.4 in c:\\users\\zaida\\anaconda3\\lib\\site-packages (from tb-nightly->basicsr) (1.4.0)\n",
      "Requirement already satisfied: six>1.9 in c:\\users\\zaida\\anaconda3\\lib\\site-packages (from tb-nightly->basicsr) (1.16.0)\n",
      "Requirement already satisfied: colorama in c:\\users\\zaida\\anaconda3\\lib\\site-packages (from tqdm->basicsr) (0.4.6)\n",
      "Requirement already satisfied: pyasn1-modules>=0.2.1 in c:\\users\\zaida\\anaconda3\\lib\\site-packages (from google-auth<3,>=1.6.3->tb-nightly->basicsr) (0.2.8)\n",
      "Requirement already satisfied: rsa<5,>=3.1.4 in c:\\users\\zaida\\anaconda3\\lib\\site-packages (from google-auth<3,>=1.6.3->tb-nightly->basicsr) (4.9)\n",
      "Requirement already satisfied: cachetools<6.0,>=2.0.0 in c:\\users\\zaida\\anaconda3\\lib\\site-packages (from google-auth<3,>=1.6.3->tb-nightly->basicsr) (5.3.1)\n",
      "Requirement already satisfied: requests-oauthlib>=0.7.0 in c:\\users\\zaida\\anaconda3\\lib\\site-packages (from google-auth-oauthlib<2,>=0.5->tb-nightly->basicsr) (1.3.1)\n",
      "Requirement already satisfied: MarkupSafe>=2.1.1 in c:\\users\\zaida\\anaconda3\\lib\\site-packages (from werkzeug>=1.0.1->tb-nightly->basicsr) (2.1.1)\n",
      "Requirement already satisfied: mpmath>=0.19 in c:\\users\\zaida\\anaconda3\\lib\\site-packages (from sympy->torch>=1.7->basicsr) (1.2.1)\n",
      "Requirement already satisfied: pyasn1<0.5.0,>=0.4.6 in c:\\users\\zaida\\anaconda3\\lib\\site-packages (from pyasn1-modules>=0.2.1->google-auth<3,>=1.6.3->tb-nightly->basicsr) (0.4.8)\n",
      "Requirement already satisfied: oauthlib>=3.0.0 in c:\\users\\zaida\\anaconda3\\lib\\site-packages (from requests-oauthlib>=0.7.0->google-auth-oauthlib<2,>=0.5->tb-nightly->basicsr) (3.2.2)\n",
      "Requirement already satisfied: facexlib in c:\\users\\zaida\\anaconda3\\lib\\site-packages (0.3.0)\n",
      "Requirement already satisfied: numba in c:\\users\\zaida\\anaconda3\\lib\\site-packages (from facexlib) (0.56.4)\n",
      "Requirement already satisfied: Pillow in c:\\users\\zaida\\anaconda3\\lib\\site-packages (from facexlib) (9.4.0)\n",
      "Requirement already satisfied: filterpy in c:\\users\\zaida\\anaconda3\\lib\\site-packages (from facexlib) (1.4.5)\n",
      "Requirement already satisfied: scipy in c:\\users\\zaida\\anaconda3\\lib\\site-packages (from facexlib) (1.10.0)\n",
      "Requirement already satisfied: tqdm in c:\\users\\zaida\\anaconda3\\lib\\site-packages (from facexlib) (4.64.1)\n",
      "Requirement already satisfied: torchvision in c:\\users\\zaida\\anaconda3\\lib\\site-packages (from facexlib) (0.15.2)\n",
      "Requirement already satisfied: torch in c:\\users\\zaida\\anaconda3\\lib\\site-packages (from facexlib) (2.0.1)\n",
      "Requirement already satisfied: numpy in c:\\users\\zaida\\anaconda3\\lib\\site-packages (from facexlib) (1.23.5)\n",
      "Requirement already satisfied: opencv-python in c:\\users\\zaida\\anaconda3\\lib\\site-packages (from facexlib) (4.8.0.74)\n",
      "Requirement already satisfied: matplotlib in c:\\users\\zaida\\anaconda3\\lib\\site-packages (from filterpy->facexlib) (3.7.0)\n",
      "Requirement already satisfied: setuptools in c:\\users\\zaida\\anaconda3\\lib\\site-packages (from numba->facexlib) (65.6.3)\n",
      "Requirement already satisfied: llvmlite<0.40,>=0.39.0dev0 in c:\\users\\zaida\\anaconda3\\lib\\site-packages (from numba->facexlib) (0.39.1)\n",
      "Requirement already satisfied: jinja2 in c:\\users\\zaida\\anaconda3\\lib\\site-packages (from torch->facexlib) (3.1.2)\n",
      "Requirement already satisfied: typing-extensions in c:\\users\\zaida\\anaconda3\\lib\\site-packages (from torch->facexlib) (4.4.0)\n",
      "Requirement already satisfied: networkx in c:\\users\\zaida\\anaconda3\\lib\\site-packages (from torch->facexlib) (2.8.4)\n",
      "Requirement already satisfied: filelock in c:\\users\\zaida\\anaconda3\\lib\\site-packages (from torch->facexlib) (3.9.0)\n",
      "Requirement already satisfied: sympy in c:\\users\\zaida\\anaconda3\\lib\\site-packages (from torch->facexlib) (1.11.1)\n",
      "Requirement already satisfied: requests in c:\\users\\zaida\\anaconda3\\lib\\site-packages (from torchvision->facexlib) (2.28.1)\n",
      "Requirement already satisfied: colorama in c:\\users\\zaida\\anaconda3\\lib\\site-packages (from tqdm->facexlib) (0.4.6)\n",
      "Requirement already satisfied: MarkupSafe>=2.0 in c:\\users\\zaida\\anaconda3\\lib\\site-packages (from jinja2->torch->facexlib) (2.1.1)\n",
      "Requirement already satisfied: kiwisolver>=1.0.1 in c:\\users\\zaida\\anaconda3\\lib\\site-packages (from matplotlib->filterpy->facexlib) (1.4.4)\n",
      "Requirement already satisfied: pyparsing>=2.3.1 in c:\\users\\zaida\\anaconda3\\lib\\site-packages (from matplotlib->filterpy->facexlib) (3.0.9)\n",
      "Requirement already satisfied: cycler>=0.10 in c:\\users\\zaida\\anaconda3\\lib\\site-packages (from matplotlib->filterpy->facexlib) (0.11.0)\n",
      "Requirement already satisfied: python-dateutil>=2.7 in c:\\users\\zaida\\anaconda3\\lib\\site-packages (from matplotlib->filterpy->facexlib) (2.8.2)\n",
      "Requirement already satisfied: fonttools>=4.22.0 in c:\\users\\zaida\\anaconda3\\lib\\site-packages (from matplotlib->filterpy->facexlib) (4.25.0)\n",
      "Requirement already satisfied: contourpy>=1.0.1 in c:\\users\\zaida\\anaconda3\\lib\\site-packages (from matplotlib->filterpy->facexlib) (1.0.5)\n",
      "Requirement already satisfied: packaging>=20.0 in c:\\users\\zaida\\anaconda3\\lib\\site-packages (from matplotlib->filterpy->facexlib) (23.1)\n",
      "Requirement already satisfied: charset-normalizer<3,>=2 in c:\\users\\zaida\\anaconda3\\lib\\site-packages (from requests->torchvision->facexlib) (2.0.4)\n",
      "Requirement already satisfied: urllib3<1.27,>=1.21.1 in c:\\users\\zaida\\anaconda3\\lib\\site-packages (from requests->torchvision->facexlib) (1.26.14)\n",
      "Requirement already satisfied: certifi>=2017.4.17 in c:\\users\\zaida\\anaconda3\\lib\\site-packages (from requests->torchvision->facexlib) (2022.12.7)\n",
      "Requirement already satisfied: idna<4,>=2.5 in c:\\users\\zaida\\anaconda3\\lib\\site-packages (from requests->torchvision->facexlib) (3.4)\n",
      "Requirement already satisfied: mpmath>=0.19 in c:\\users\\zaida\\anaconda3\\lib\\site-packages (from sympy->torch->facexlib) (1.2.1)\n",
      "Requirement already satisfied: six>=1.5 in c:\\users\\zaida\\anaconda3\\lib\\site-packages (from python-dateutil>=2.7->matplotlib->filterpy->facexlib) (1.16.0)\n"
     ]
    },
    {
     "name": "stdout",
     "output_type": "stream",
     "text": [
      "Requirement already satisfied: gfpgan in c:\\users\\zaida\\anaconda3\\lib\\site-packages (1.3.8)\n",
      "Requirement already satisfied: torch>=1.7 in c:\\users\\zaida\\anaconda3\\lib\\site-packages (from gfpgan) (2.0.1)\n",
      "Requirement already satisfied: pyyaml in c:\\users\\zaida\\anaconda3\\lib\\site-packages (from gfpgan) (6.0)\n",
      "Requirement already satisfied: scipy in c:\\users\\zaida\\anaconda3\\lib\\site-packages (from gfpgan) (1.10.0)\n",
      "Requirement already satisfied: yapf in c:\\users\\zaida\\anaconda3\\lib\\site-packages (from gfpgan) (0.31.0)\n",
      "Requirement already satisfied: basicsr>=1.4.2 in c:\\users\\zaida\\anaconda3\\lib\\site-packages (from gfpgan) (1.4.2)\n",
      "Requirement already satisfied: tb-nightly in c:\\users\\zaida\\anaconda3\\lib\\site-packages (from gfpgan) (2.16.0a20231231)\n",
      "Requirement already satisfied: lmdb in c:\\users\\zaida\\anaconda3\\lib\\site-packages (from gfpgan) (1.4.1)\n",
      "Requirement already satisfied: torchvision in c:\\users\\zaida\\anaconda3\\lib\\site-packages (from gfpgan) (0.15.2)\n",
      "Requirement already satisfied: opencv-python in c:\\users\\zaida\\anaconda3\\lib\\site-packages (from gfpgan) (4.8.0.74)\n",
      "Requirement already satisfied: tqdm in c:\\users\\zaida\\anaconda3\\lib\\site-packages (from gfpgan) (4.64.1)\n",
      "Requirement already satisfied: numpy in c:\\users\\zaida\\anaconda3\\lib\\site-packages (from gfpgan) (1.23.5)\n",
      "Requirement already satisfied: facexlib>=0.2.5 in c:\\users\\zaida\\anaconda3\\lib\\site-packages (from gfpgan) (0.3.0)\n",
      "Requirement already satisfied: requests in c:\\users\\zaida\\anaconda3\\lib\\site-packages (from basicsr>=1.4.2->gfpgan) (2.28.1)\n",
      "Requirement already satisfied: scikit-image in c:\\users\\zaida\\anaconda3\\lib\\site-packages (from basicsr>=1.4.2->gfpgan) (0.19.3)\n",
      "Requirement already satisfied: future in c:\\users\\zaida\\anaconda3\\lib\\site-packages (from basicsr>=1.4.2->gfpgan) (0.18.3)\n",
      "Requirement already satisfied: addict in c:\\users\\zaida\\anaconda3\\lib\\site-packages (from basicsr>=1.4.2->gfpgan) (2.4.0)\n",
      "Requirement already satisfied: Pillow in c:\\users\\zaida\\anaconda3\\lib\\site-packages (from basicsr>=1.4.2->gfpgan) (9.4.0)\n",
      "Requirement already satisfied: numba in c:\\users\\zaida\\anaconda3\\lib\\site-packages (from facexlib>=0.2.5->gfpgan) (0.56.4)\n",
      "Requirement already satisfied: filterpy in c:\\users\\zaida\\anaconda3\\lib\\site-packages (from facexlib>=0.2.5->gfpgan) (1.4.5)\n",
      "Requirement already satisfied: sympy in c:\\users\\zaida\\anaconda3\\lib\\site-packages (from torch>=1.7->gfpgan) (1.11.1)\n",
      "Requirement already satisfied: filelock in c:\\users\\zaida\\anaconda3\\lib\\site-packages (from torch>=1.7->gfpgan) (3.9.0)\n",
      "Requirement already satisfied: networkx in c:\\users\\zaida\\anaconda3\\lib\\site-packages (from torch>=1.7->gfpgan) (2.8.4)\n",
      "Requirement already satisfied: jinja2 in c:\\users\\zaida\\anaconda3\\lib\\site-packages (from torch>=1.7->gfpgan) (3.1.2)\n",
      "Requirement already satisfied: typing-extensions in c:\\users\\zaida\\anaconda3\\lib\\site-packages (from torch>=1.7->gfpgan) (4.4.0)\n",
      "Requirement already satisfied: absl-py>=0.4 in c:\\users\\zaida\\anaconda3\\lib\\site-packages (from tb-nightly->gfpgan) (1.4.0)\n",
      "Requirement already satisfied: six>1.9 in c:\\users\\zaida\\anaconda3\\lib\\site-packages (from tb-nightly->gfpgan) (1.16.0)\n",
      "Requirement already satisfied: protobuf>=3.19.6 in c:\\users\\zaida\\anaconda3\\lib\\site-packages (from tb-nightly->gfpgan) (4.23.3)\n",
      "Requirement already satisfied: grpcio>=1.48.2 in c:\\users\\zaida\\anaconda3\\lib\\site-packages (from tb-nightly->gfpgan) (1.56.0)\n",
      "Requirement already satisfied: setuptools>=41.0.0 in c:\\users\\zaida\\anaconda3\\lib\\site-packages (from tb-nightly->gfpgan) (65.6.3)\n",
      "Requirement already satisfied: google-auth<3,>=1.6.3 in c:\\users\\zaida\\anaconda3\\lib\\site-packages (from tb-nightly->gfpgan) (2.20.0)\n",
      "Requirement already satisfied: tf-keras-nightly in c:\\users\\zaida\\anaconda3\\lib\\site-packages (from tb-nightly->gfpgan) (2.16.0.dev2023123010)\n",
      "Requirement already satisfied: werkzeug>=1.0.1 in c:\\users\\zaida\\anaconda3\\lib\\site-packages (from tb-nightly->gfpgan) (2.2.2)\n",
      "Requirement already satisfied: markdown>=2.6.8 in c:\\users\\zaida\\anaconda3\\lib\\site-packages (from tb-nightly->gfpgan) (3.4.1)\n",
      "Requirement already satisfied: tensorboard-data-server<0.8.0,>=0.7.0 in c:\\users\\zaida\\anaconda3\\lib\\site-packages (from tb-nightly->gfpgan) (0.7.1)\n",
      "Requirement already satisfied: google-auth-oauthlib<2,>=0.5 in c:\\users\\zaida\\anaconda3\\lib\\site-packages (from tb-nightly->gfpgan) (1.0.0)\n",
      "Requirement already satisfied: colorama in c:\\users\\zaida\\anaconda3\\lib\\site-packages (from tqdm->gfpgan) (0.4.6)\n",
      "Requirement already satisfied: cachetools<6.0,>=2.0.0 in c:\\users\\zaida\\anaconda3\\lib\\site-packages (from google-auth<3,>=1.6.3->tb-nightly->gfpgan) (5.3.1)\n",
      "Requirement already satisfied: pyasn1-modules>=0.2.1 in c:\\users\\zaida\\anaconda3\\lib\\site-packages (from google-auth<3,>=1.6.3->tb-nightly->gfpgan) (0.2.8)\n",
      "Requirement already satisfied: urllib3<2.0 in c:\\users\\zaida\\anaconda3\\lib\\site-packages (from google-auth<3,>=1.6.3->tb-nightly->gfpgan) (1.26.14)\n",
      "Requirement already satisfied: rsa<5,>=3.1.4 in c:\\users\\zaida\\anaconda3\\lib\\site-packages (from google-auth<3,>=1.6.3->tb-nightly->gfpgan) (4.9)\n",
      "Requirement already satisfied: requests-oauthlib>=0.7.0 in c:\\users\\zaida\\anaconda3\\lib\\site-packages (from google-auth-oauthlib<2,>=0.5->tb-nightly->gfpgan) (1.3.1)\n",
      "Requirement already satisfied: idna<4,>=2.5 in c:\\users\\zaida\\anaconda3\\lib\\site-packages (from requests->basicsr>=1.4.2->gfpgan) (3.4)\n",
      "Requirement already satisfied: charset-normalizer<3,>=2 in c:\\users\\zaida\\anaconda3\\lib\\site-packages (from requests->basicsr>=1.4.2->gfpgan) (2.0.4)\n",
      "Requirement already satisfied: certifi>=2017.4.17 in c:\\users\\zaida\\anaconda3\\lib\\site-packages (from requests->basicsr>=1.4.2->gfpgan) (2022.12.7)\n",
      "Requirement already satisfied: MarkupSafe>=2.1.1 in c:\\users\\zaida\\anaconda3\\lib\\site-packages (from werkzeug>=1.0.1->tb-nightly->gfpgan) (2.1.1)\n",
      "Requirement already satisfied: matplotlib in c:\\users\\zaida\\anaconda3\\lib\\site-packages (from filterpy->facexlib>=0.2.5->gfpgan) (3.7.0)\n",
      "Requirement already satisfied: llvmlite<0.40,>=0.39.0dev0 in c:\\users\\zaida\\anaconda3\\lib\\site-packages (from numba->facexlib>=0.2.5->gfpgan) (0.39.1)\n",
      "Requirement already satisfied: tifffile>=2019.7.26 in c:\\users\\zaida\\anaconda3\\lib\\site-packages (from scikit-image->basicsr>=1.4.2->gfpgan) (2021.7.2)\n",
      "Requirement already satisfied: packaging>=20.0 in c:\\users\\zaida\\anaconda3\\lib\\site-packages (from scikit-image->basicsr>=1.4.2->gfpgan) (23.1)\n",
      "Requirement already satisfied: PyWavelets>=1.1.1 in c:\\users\\zaida\\anaconda3\\lib\\site-packages (from scikit-image->basicsr>=1.4.2->gfpgan) (1.4.1)\n",
      "Requirement already satisfied: imageio>=2.4.1 in c:\\users\\zaida\\anaconda3\\lib\\site-packages (from scikit-image->basicsr>=1.4.2->gfpgan) (2.26.0)\n",
      "Requirement already satisfied: mpmath>=0.19 in c:\\users\\zaida\\anaconda3\\lib\\site-packages (from sympy->torch>=1.7->gfpgan) (1.2.1)\n",
      "Requirement already satisfied: pyasn1<0.5.0,>=0.4.6 in c:\\users\\zaida\\anaconda3\\lib\\site-packages (from pyasn1-modules>=0.2.1->google-auth<3,>=1.6.3->tb-nightly->gfpgan) (0.4.8)\n",
      "Requirement already satisfied: oauthlib>=3.0.0 in c:\\users\\zaida\\anaconda3\\lib\\site-packages (from requests-oauthlib>=0.7.0->google-auth-oauthlib<2,>=0.5->tb-nightly->gfpgan) (3.2.2)\n",
      "Requirement already satisfied: kiwisolver>=1.0.1 in c:\\users\\zaida\\anaconda3\\lib\\site-packages (from matplotlib->filterpy->facexlib>=0.2.5->gfpgan) (1.4.4)\n",
      "Requirement already satisfied: pyparsing>=2.3.1 in c:\\users\\zaida\\anaconda3\\lib\\site-packages (from matplotlib->filterpy->facexlib>=0.2.5->gfpgan) (3.0.9)\n",
      "Requirement already satisfied: cycler>=0.10 in c:\\users\\zaida\\anaconda3\\lib\\site-packages (from matplotlib->filterpy->facexlib>=0.2.5->gfpgan) (0.11.0)\n",
      "Requirement already satisfied: python-dateutil>=2.7 in c:\\users\\zaida\\anaconda3\\lib\\site-packages (from matplotlib->filterpy->facexlib>=0.2.5->gfpgan) (2.8.2)\n",
      "Requirement already satisfied: contourpy>=1.0.1 in c:\\users\\zaida\\anaconda3\\lib\\site-packages (from matplotlib->filterpy->facexlib>=0.2.5->gfpgan) (1.0.5)\n",
      "Requirement already satisfied: fonttools>=4.22.0 in c:\\users\\zaida\\anaconda3\\lib\\site-packages (from matplotlib->filterpy->facexlib>=0.2.5->gfpgan) (4.25.0)\n"
     ]
    },
    {
     "name": "stderr",
     "output_type": "stream",
     "text": [
      "python: can't open file \"D:\\\\GAN's\\\\realesrgan-ncnn-vulkan\\\\setup.py\": [Errno 2] No such file or directory\n"
     ]
    }
   ],
   "source": [
    "!pip install basicsr\n",
    "!pip install facexlib\n",
    "!pip install gfpgan\n",
    "!python setup.py develop"
   ]
  },
  {
   "cell_type": "code",
   "execution_count": 1,
   "id": "def304fa",
   "metadata": {},
   "outputs": [],
   "source": [
    "#uncomment and use the below\n",
    "\n",
    "#!realesrgan-ncnn-vulkan.exe -i ../input_img -o ../output_img -n realesrgan-x4plus -s 4"
   ]
  },
  {
   "cell_type": "code",
   "execution_count": null,
   "id": "ff59f096",
   "metadata": {},
   "outputs": [],
   "source": []
  },
  {
   "cell_type": "code",
   "execution_count": null,
   "id": "5221b39c",
   "metadata": {},
   "outputs": [],
   "source": []
  }
 ],
 "metadata": {
  "kernelspec": {
   "display_name": "zaid",
   "language": "python",
   "name": "zaid"
  },
  "language_info": {
   "codemirror_mode": {
    "name": "ipython",
    "version": 3
   },
   "file_extension": ".py",
   "mimetype": "text/x-python",
   "name": "python",
   "nbconvert_exporter": "python",
   "pygments_lexer": "ipython3",
   "version": "3.10.6"
  }
 },
 "nbformat": 4,
 "nbformat_minor": 5
}
